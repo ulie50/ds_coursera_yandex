{
 "cells": [
  {
   "cell_type": "code",
   "execution_count": 33,
   "metadata": {},
   "outputs": [
    {
     "name": "stdout",
     "output_type": "stream",
     "text": [
      "<_io.TextIOWrapper name='working_file.txt' mode='r' encoding='cp1252'>\n"
     ]
    }
   ],
   "source": [
    "#2.считываем файл и переводим текст в нижний регистр\n",
    "with open('task2_sentences.txt', 'r') as f1:\n",
    "    with open('working_file.txt','w') as f2:\n",
    "        for line in f1:\n",
    "            read_data = line.lower()\n",
    "            f2.write(read_data.lower())\n",
    "    f2.closed\n",
    "f1.closed\n"
   ]
  },
  {
   "cell_type": "code",
   "execution_count": 7,
   "metadata": {},
   "outputs": [
    {
     "name": "stdout",
     "output_type": "stream",
     "text": [
      "['in', 'comparison', 'to', 'dogs', 'cats', 'have', 'not', 'undergone', 'major', 'changes', 'during', 'the', 'domestication', 'process']\n",
      "['as', 'cat', 'simply', 'catenates', 'streams', 'of', 'bytes', 'it', 'can', 'be', 'also', 'used', 'to', 'concatenate', 'binary', 'files', 'where', 'it', 'will', 'just', 'concatenate', 'sequence', 'of', 'bytes']\n",
      "['a', 'common', 'interactive', 'use', 'of', 'cat', 'for', 'a', 'single', 'file', 'is', 'to', 'output', 'the', 'content', 'of', 'a', 'file', 'to', 'standard', 'output']\n",
      "['cats', 'can', 'hear', 'sounds', 'too', 'faint', 'or', 'too', 'high', 'in', 'frequency', 'for', 'human', 'ears', 'such', 'as', 'those', 'made', 'by', 'mice', 'and', 'other', 'small', 'animals']\n",
      "['in', 'one', 'people', 'deliberately', 'tamed', 'cats', 'in', 'a', 'process', 'of', 'artificial', 'selection', 'as', 'they', 'were', 'useful', 'predators', 'of', 'vermin']\n",
      "['the', 'domesticated', 'cat', 'and', 'its', 'closest', 'wild', 'ancestor', 'are', 'both', 'diploid', 'organisms', 'that', 'possess', 'chromosomes', 'and', 'roughly', 'genes']\n",
      "['domestic', 'cats', 'are', 'similar', 'in', 'size', 'to', 'the', 'other', 'members', 'of', 'the', 'genus', 'felis', 'typically', 'weighing', 'between', 'and', 'kg', 'and', 'lb']\n",
      "['however', 'if', 'the', 'output', 'is', 'piped', 'or', 'redirected', 'cat', 'is', 'unnecessary']\n",
      "['cat', 'with', 'one', 'named', 'file', 'is', 'safer', 'where', 'human', 'error', 'is', 'a', 'concern', 'one', 'wrong', 'use', 'of', 'the', 'default', 'redirection', 'symbol', 'instead', 'of', 'often', 'adjacent', 'on', 'keyboards', 'may', 'permanently', 'delete', 'the', 'file', 'you', 'were', 'just', 'needing', 'to', 'read']\n",
      "['in', 'terms', 'of', 'legibility', 'a', 'sequence', 'of', 'commands', 'starting', 'with', 'cat', 'and', 'connected', 'by', 'pipes', 'has', 'a', 'clear', 'left', 'to', 'right', 'flow', 'of', 'information']\n",
      "['cat', 'command', 'is', 'one', 'of', 'the', 'basic', 'commands', 'that', 'you', 'learned', 'when', 'you', 'started', 'in', 'the', 'unix', 'linux', 'world']\n",
      "['using', 'cat', 'command', 'the', 'lines', 'received', 'from', 'stdin', 'can', 'be', 'redirected', 'to', 'a', 'new', 'file', 'using', 'redirection', 'symbols']\n",
      "['when', 'you', 'type', 'simply', 'cat', 'command', 'without', 'any', 'arguments', 'it', 'just', 'receives', 'the', 'stdin', 'content', 'and', 'displays', 'it', 'in', 'the', 'stdout']\n",
      "['leopard', 'was', 'released', 'on', 'october', 'as', 'the', 'successor', 'of', 'tiger', 'version', 'and', 'is', 'available', 'in', 'two', 'editions']\n",
      "['according', 'to', 'apple', 'leopard', 'contains', 'over', 'changes', 'and', 'enhancements', 'over', 'its', 'predecessor', 'mac', 'os', 'x', 'tiger']\n",
      "['as', 'of', 'mid', 'some', 'apple', 'computers', 'have', 'firmware', 'factory', 'installed', 'which', 'will', 'no', 'longer', 'allow', 'installation', 'of', 'mac', 'os', 'x', 'leopard']\n",
      "['since', 'apple', 'moved', 'to', 'using', 'intel', 'processors', 'in', 'their', 'computers', 'the', 'osx', 'community', 'has', 'developed', 'and', 'now', 'also', 'allows', 'mac', 'os', 'x', 'tiger', 'and', 'later', 'releases', 'to', 'be', 'installed', 'on', 'non', 'apple', 'x', 'based', 'computers']\n",
      "['os', 'x', 'mountain', 'lion', 'was', 'released', 'on', 'july', 'for', 'purchase', 'and', 'download', 'through', 'apple', 's', 'mac', 'app', 'store', 'as', 'part', 'of', 'a', 'switch', 'to', 'releasing', 'os', 'x', 'versions', 'online', 'and', 'every', 'year']\n",
      "['apple', 'has', 'released', 'a', 'small', 'patch', 'for', 'the', 'three', 'most', 'recent', 'versions', 'of', 'safari', 'running', 'on', 'os', 'x', 'yosemite', 'mavericks', 'and', 'mountain', 'lion']\n",
      "['the', 'mountain', 'lion', 'release', 'marks', 'the', 'second', 'time', 'apple', 'has', 'offered', 'an', 'incremental', 'upgrade', 'rather', 'than', 'releasing', 'a', 'new', 'cat', 'entirely']\n",
      "['mac', 'os', 'x', 'mountain', 'lion', 'installs', 'in', 'place', 'so', 'you', 'won', 't', 'need', 'to', 'create', 'a', 'separate', 'disk', 'or', 'run', 'the', 'installation', 'off', 'an', 'external', 'drive']\n",
      "['the', 'fifth', 'major', 'update', 'to', 'mac', 'os', 'x', 'leopard', 'contains', 'such', 'a', 'mountain', 'of', 'features', 'more', 'than', 'by', 'apple', 's', 'count']\n"
     ]
    },
    {
     "data": {
      "text/plain": [
       "True"
      ]
     },
     "execution_count": 7,
     "metadata": {},
     "output_type": "execute_result"
    }
   ],
   "source": [
    "#3.Производим токенизацию при помощи регулярного выражения re.split('[^a-z]', t) и удаляем \"пустые\" слова\n",
    "#4.Сопоставляем список всех слов, встречающихся в предложениях\n",
    "import re\n",
    "\n",
    "thisdict=dict()\n",
    "d=0\n",
    "with open('working_file.txt','r') as f2:\n",
    "        for line in f2:\n",
    "            filtered = [x for x in re.split('[^a-z]', line) if x.strip()]\n",
    "            print (filtered)\n",
    "            for x in filtered:\n",
    "                if x not in thisdict.values():\n",
    "                    thisdict[d] = x\n",
    "              #      print(d,x)\n",
    "                    d=d+1\n",
    "f2.closed\n",
    "#print(n)\n"
   ]
  },
  {
   "cell_type": "code",
   "execution_count": 2,
   "metadata": {},
   "outputs": [
    {
     "name": "stdout",
     "output_type": "stream",
     "text": [
      "(22, 254)\n"
     ]
    }
   ],
   "source": [
    "#5.Создаем матрицу и заполняем ее\n",
    "import numpy as np\n",
    "i=0\n",
    "f3=open('matrix.txt','w')\n",
    "matrix=np.zeros((n,len(thisdict)),int)\n",
    "print(matrix.shape)\n",
    "with open('working_file.txt','r') as f2:\n",
    "    for line in f2:\n",
    "        j=0\n",
    "        while(j<len(thisdict)):\n",
    "        filtered = [x for x in re.split('[^a-z]', line) if x.strip()]\n",
    "          #  matrix[i,j]=line.count(thisdict[j])\n",
    "            matrix[i,j]=filtered.count(thisdict[j])\n",
    "            f3.write(str( matrix[i,j]))\n",
    "            f3.write(' ')\n",
    "            j+=1\n",
    "        i+=1\n",
    "f2.closed\n",
    "f3.close()\n",
    "#print(matrix[1,20])"
   ]
  },
  {
   "cell_type": "code",
   "execution_count": 4,
   "metadata": {},
   "outputs": [
    {
     "name": "stdout",
     "output_type": "stream",
     "text": [
      "[0.0, 0.11657075758219448, 0.19777738803029532, 0.15996056399532876, 0.10555511876381107, 0.14004527051866666, 0.15026685747694313, 0.20609040268280376, 0.12477127763327134, 0.16341484965019626, 0.189873417721519, 0.16967762387371021, 0.18850982361052293, 0.132601041976097, 0.1508719887668445, 0.1756063450112042, 0.12164187392382353, 0.17323261808567447, 0.14123976674418737, 0.18543183904737315, 0.12750373890975997, 0.1628326195551163]\n",
      "22\n",
      "0\n",
      "4\n",
      "1\n"
     ]
    }
   ],
   "source": [
    "#6. Находим косинусное расстояние от 1го предложения до всех остальных\n",
    "from scipy.spatial import distance\n",
    "\n",
    "distances1=[]\n",
    "distances2=[]\n",
    "distances3=[]\n",
    "\n",
    "#a=0 #The first sentence\n",
    "#b=1 #This variable is used for all other sentences\n",
    "\n",
    "#while(b<=n):\n",
    "for row in matrix:\n",
    "    c=distance.cosine(matrix[0,:],row)\n",
    "    distances1.append(c)\n",
    " #   b+=1\n",
    "#7.Находим ближайшие предложения\n",
    "#Попробуйте еще раз! Помните, что чем меньше косинусное расстояние, тем более похожи тексты.\n",
    "print(distances1)\n",
    "print(len(distances1))\n",
    "min0=distances1.index(sorted(distances1,reverse=False)[0])\n",
    "min1=distances1.index(sorted(distances1,reverse=False)[1])\n",
    "min2=distances1.index(sorted(distances1,reverse=False)[2])\n",
    "print(min0)\n",
    "print(min1)\n",
    "print(min2)\n",
    "\n",
    "#s=repr(max1+' '+max2)\n",
    "f4=open('submission-1.txt','w')\n",
    "f4.write(str(min1)+' '+str(min2))\n",
    "f4.close()"
   ]
  },
  {
   "cell_type": "code",
   "execution_count": null,
   "metadata": {},
   "outputs": [],
   "source": [
    "m1=min(distances)\n",
    "m1,m2,m3=none,none,none\n",
    "for x in distances:\n",
    "        if x = m1:\n",
    "            m1, m2 = x, m1\n",
    "        elif x < m2:\n",
    "            m2 = x\n",
    "            \n",
    "max1=distances1.index(min(distances))+1\n",
    "print(max1)\n",
    "distances2=distances1.remove(min(distances))\n",
    "a=min(distances2)\n",
    "max2=distances1.index(a)+1\n",
    "print(max2)\n",
    "distances3=distances2.remove(i)\n",
    "b=min(distances3)\n",
    "max3=distances1.index(b)+1\n",
    "print(max3)\n"
   ]
  }
 ],
 "metadata": {
  "kernelspec": {
   "display_name": "Python 3",
   "language": "python",
   "name": "python3"
  },
  "language_info": {
   "codemirror_mode": {
    "name": "ipython",
    "version": 3
   },
   "file_extension": ".py",
   "mimetype": "text/x-python",
   "name": "python",
   "nbconvert_exporter": "python",
   "pygments_lexer": "ipython3",
   "version": "3.7.3"
  }
 },
 "nbformat": 4,
 "nbformat_minor": 2
}
