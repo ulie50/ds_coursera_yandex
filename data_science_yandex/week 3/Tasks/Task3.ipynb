{
 "cells": [
  {
   "cell_type": "code",
   "execution_count": 17,
   "metadata": {},
   "outputs": [
    {
     "name": "stdout",
     "output_type": "stream",
     "text": [
      "[-1.  -1.  -0.5  0.   0.   0.5  0.5  0.   0.   0.   0.  -0.5 -0.5 -0.5\n",
      " -0.5 -0.5 -1.  -1.5 -1.5 -1.5 -1.5 -1.  -1.  -1.  -0.5  0.   0.5  1.5\n",
      "  6.5  5.  -1.  -0.5  0.   0.   0.5  0.5  0.   0.   0.   0.  -0.5 -0.5\n",
      " -0.5 -0.5 -0.5 -1.  -1.5 -1.5 -1.5 -1.5 -1.  -1.  -1.  -0.5  0.   0.5\n",
      "  1.5  2. ]\n"
     ]
    },
    {
     "data": {
      "image/png": "[encoded data removed]",
      "text/plain": [
       "<Figure size 432x288 with 1 Axes>"
      ]
     },
     "metadata": {
      "needs_background": "light"
     },
     "output_type": "display_data"
    }
   ],
   "source": [
    "import math\n",
    "from scipy.optimize import differential_evolution\n",
    "import numpy as np\n",
    "import matplotlib.pyplot as plt \n",
    "\n",
    "x0=np.arange(1 ,30 ,1 )\n",
    "\n",
    "def f(x):\n",
    "        return math.sin(float(x)/5.) * math.exp(float(x)/10.) + 5 * math.exp(float(-x)/2.)\n",
    "    \n",
    "    \n",
    "def h(x):\n",
    "    return int(f(x))\n",
    "\n",
    "\n",
    "\n",
    "y=[]\n",
    "def f2(arr):\n",
    "      for x in arr:\n",
    "        y.append(h(x))\n",
    "      return y\n",
    "\n",
    "plt.plot(x0,f2(x0))\n",
    "plt.plot(x0, np.full((len(x0)),-5), 'r--')\n",
    "\n",
    "gr=np.gradient(f2(x0))\n",
    "print(gr)"
   ]
  },
  {
   "cell_type": "code",
   "execution_count": 7,
   "metadata": {},
   "outputs": [
    {
     "name": "stdout",
     "output_type": "stream",
     "text": [
      "      fun: -5\n",
      " hess_inv: array([[1]])\n",
      "      jac: array([0.])\n",
      "  message: 'Optimization terminated successfully.'\n",
      "     nfev: 3\n",
      "      nit: 0\n",
      "     njev: 1\n",
      "   status: 0\n",
      "  success: True\n",
      "        x: array([30.])\n"
     ]
    }
   ],
   "source": [
    "import scipy.optimize\n",
    "res1=scipy.optimize.minimize(h,[30],method='BFGS')\n",
    "print(res1)\n",
    "\n",
    "f1=open('submission-3.txt','w')\n",
    "f1.write(str(res1.fun))\n",
    "f1.close()\n",
    "\n"
   ]
  },
  {
   "cell_type": "code",
   "execution_count": 9,
   "metadata": {},
   "outputs": [
    {
     "name": "stdout",
     "output_type": "stream",
     "text": [
      "     fun: -11.0\n",
      " message: 'Optimization terminated successfully.'\n",
      "    nfev: 137\n",
      "     nit: 8\n",
      " success: True\n",
      "       x: array([27.03739372])\n",
      "2\n",
      "8\n"
     ]
    },
    {
     "data": {
      "text/plain": [
       "<function TextIOWrapper.close()>"
      ]
     },
     "execution_count": 9,
     "metadata": {},
     "output_type": "execute_result"
    }
   ],
   "source": [
    "res2=differential_evolution(h,[(1,30)])   \n",
    "print(res2)\n",
    "\n",
    "f2=open('submission-3.txt','a')\n",
    "print(f2.tell())\n",
    "f2.write(' '+ str(round(res2.fun,2)))\n",
    "print(f2.tell())\n",
    "f2.close"
   ]
  },
  {
   "cell_type": "code",
   "execution_count": 13,
   "metadata": {},
   "outputs": [
    {
     "name": "stdout",
     "output_type": "stream",
     "text": [
      "0\n"
     ]
    },
    {
     "ename": "TypeError",
     "evalue": "object of type 'function' has no len()",
     "output_type": "error",
     "traceback": [
      "\u001b[1;31m---------------------------------------------------------------------------\u001b[0m",
      "\u001b[1;31mTypeError\u001b[0m                                 Traceback (most recent call last)",
      "\u001b[1;32m<ipython-input-13-06ff7bfec5ff>\u001b[0m in \u001b[0;36m<module>\u001b[1;34m\u001b[0m\n\u001b[0;32m     24\u001b[0m \u001b[1;33m\u001b[0m\u001b[0m\n\u001b[0;32m     25\u001b[0m \u001b[0mres0\u001b[0m\u001b[1;33m=\u001b[0m\u001b[0mnp\u001b[0m\u001b[1;33m.\u001b[0m\u001b[0mgradient\u001b[0m\u001b[1;33m(\u001b[0m\u001b[0mf2\u001b[0m\u001b[1;33m(\u001b[0m\u001b[0mx0\u001b[0m\u001b[1;33m)\u001b[0m\u001b[1;33m)\u001b[0m\u001b[1;33m\u001b[0m\u001b[1;33m\u001b[0m\u001b[0m\n\u001b[1;32m---> 26\u001b[1;33m \u001b[0mprint\u001b[0m\u001b[1;33m(\u001b[0m\u001b[0mlen\u001b[0m\u001b[1;33m(\u001b[0m\u001b[0mf2\u001b[0m\u001b[1;33m)\u001b[0m\u001b[1;33m)\u001b[0m\u001b[1;33m\u001b[0m\u001b[1;33m\u001b[0m\u001b[0m\n\u001b[0m\u001b[0;32m     27\u001b[0m \u001b[0mprint\u001b[0m\u001b[1;33m(\u001b[0m\u001b[0mres0\u001b[0m\u001b[1;33m)\u001b[0m\u001b[1;33m\u001b[0m\u001b[1;33m\u001b[0m\u001b[0m\n\u001b[0;32m     28\u001b[0m \u001b[1;31m#plt.plot(x0,f2(x0))\u001b[0m\u001b[1;33m\u001b[0m\u001b[1;33m\u001b[0m\u001b[1;33m\u001b[0m\u001b[0m\n",
      "\u001b[1;31mTypeError\u001b[0m: object of type 'function' has no len()"
     ]
    }
   ],
   "source": [
    "#why BSFG returning -5 as answer\n",
    "import math\n",
    "from scipy.optimize import differential_evolution\n",
    "import numpy as np\n",
    "import matplotlib.pyplot as plt \n",
    "\n",
    "x0=np.arange(1 ,30 ,1 )\n",
    "\n",
    "def f(x):\n",
    "        return math.sin(float(x)/5.) * math.exp(float(x)/10.) + 5 * math.exp(float(-x)/2.)\n",
    "    \n",
    "    \n",
    "def h(x):\n",
    "    return int(f(x))\n",
    "\n",
    "\n",
    "\n",
    "y=[]\n",
    "print(len(y))\n",
    "def f2(arr):\n",
    "      for x in arr:\n",
    "        y.append(h(x))\n",
    "      return y\n",
    "\n",
    "res0=np.gradient(f2(x0))\n",
    "print(len(f2))\n",
    "print(res0)\n",
    "#plt.plot(x0,f2(x0))\n",
    "plt.plot(x0, -5, 'r--')"
   ]
  }
 ],
 "metadata": {
  "kernelspec": {
   "display_name": "Python 3",
   "language": "python",
   "name": "python3"
  },
  "language_info": {
   "codemirror_mode": {
    "name": "ipython",
    "version": 3
   },
   "file_extension": ".py",
   "mimetype": "text/x-python",
   "name": "python",
   "nbconvert_exporter": "python",
   "pygments_lexer": "ipython3",
   "version": "3.7.3"
  }
 },
 "nbformat": 4,
 "nbformat_minor": 2
}
