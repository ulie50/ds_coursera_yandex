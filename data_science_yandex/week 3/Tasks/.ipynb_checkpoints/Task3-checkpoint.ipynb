{
 "cells": [
  {
   "cell_type": "code",
   "execution_count": null,
   "metadata": {},
   "outputs": [],
   "source": [
    "import math\n",
    "from scipy.optimize import differential_evolution\n",
    "import numpy as np\n",
    "\n",
    "\n",
    "def f(x):\n",
    "        return math.sin(float(x)/5.) * math.exp(float(x)/10.) + 5 * math.exp(float(-x)/2.)\n",
    "    \n",
    "    \n",
    "def h(x)\n",
    "    return int(f(x))"
   ]
  }
 ],
 "metadata": {
  "kernelspec": {
   "display_name": "Python 3",
   "language": "python",
   "name": "python3"
  },
  "language_info": {
   "codemirror_mode": {
    "name": "ipython",
    "version": 3
   },
   "file_extension": ".py",
   "mimetype": "text/x-python",
   "name": "python",
   "nbconvert_exporter": "python",
   "pygments_lexer": "ipython3",
   "version": "3.7.3"
  }
 },
 "nbformat": 4,
 "nbformat_minor": 2
}
