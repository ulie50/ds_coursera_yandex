{
 "cells": [
  {
   "cell_type": "code",
   "execution_count": 10,
   "metadata": {},
   "outputs": [
    {
     "name": "stdout",
     "output_type": "stream",
     "text": [
      "[0.8260942264208858, 0.6330090820980743]\n"
     ]
    }
   ],
   "source": [
    "import numpy as np\n",
    "import math\n",
    "a=[]\n",
    "b=[]\n",
    "def myfun(x):\n",
    "    y = math.sin(x/5)* math.exp(x/10)+ math.exp(-x/2)\n",
    "    return y\n",
    "b.append(myfun(1))\n",
    "b.append(myfun(15))\n",
    "\n",
    "x=scipy.linalg.solve\n"
   ]
  }
 ],
 "metadata": {
  "kernelspec": {
   "display_name": "Python 3",
   "language": "python",
   "name": "python3"
  },
  "language_info": {
   "codemirror_mode": {
    "name": "ipython",
    "version": 3
   },
   "file_extension": ".py",
   "mimetype": "text/x-python",
   "name": "python",
   "nbconvert_exporter": "python",
   "pygments_lexer": "ipython3",
   "version": "3.7.3"
  }
 },
 "nbformat": 4,
 "nbformat_minor": 2
}
