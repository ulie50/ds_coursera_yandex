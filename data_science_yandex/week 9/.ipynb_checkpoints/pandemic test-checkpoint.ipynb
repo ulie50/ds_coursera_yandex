{
 "cells": [
  {
   "cell_type": "code",
   "execution_count": 4,
   "metadata": {},
   "outputs": [
    {
     "name": "stdout",
     "output_type": "stream",
     "text": [
      "Collecting pandemic\n",
      "  Using cached https://files.pythonhosted.org/packages/38/dd/b6ac1f48676d8591cca0db1656c1abba20f644b562c8b5b987607add9e38/pandemic-0.1.8-py3-none-any.whl\n",
      "Collecting python-geohash (from pandemic)\n",
      "  Using cached https://files.pythonhosted.org/packages/9c/e2/1a3507af7c8f91f8a4975d651d4aeb6a846dfdf74713954186ade4205850/python-geohash-0.8.5.tar.gz\n",
      "Requirement already satisfied: deepdiff in c:\\users\\julii\\anaconda3_1\\lib\\site-packages (from pandemic) (4.3.2)\n",
      "Requirement already satisfied: matplotlib in c:\\users\\julii\\anaconda3_1\\lib\\site-packages (from pandemic) (3.1.1)\n",
      "Requirement already satisfied: pathlib in c:\\users\\julii\\anaconda3_1\\lib\\site-packages (from pandemic) (1.0.1)\n",
      "Requirement already satisfied: contexttimer in c:\\users\\julii\\anaconda3_1\\lib\\site-packages (from pandemic) (0.3.3)\n",
      "Requirement already satisfied: requests in c:\\users\\julii\\anaconda3_1\\lib\\site-packages (from pandemic) (2.22.0)\n",
      "Requirement already satisfied: numpy in c:\\users\\julii\\anaconda3_1\\lib\\site-packages (from pandemic) (1.16.5)\n",
      "Requirement already satisfied: ordered-set>=3.1.1 in c:\\users\\julii\\anaconda3_1\\lib\\site-packages (from deepdiff->pandemic) (3.1.1)\n",
      "Requirement already satisfied: cycler>=0.10 in c:\\users\\julii\\anaconda3_1\\lib\\site-packages (from matplotlib->pandemic) (0.10.0)\n",
      "Requirement already satisfied: kiwisolver>=1.0.1 in c:\\users\\julii\\anaconda3_1\\lib\\site-packages (from matplotlib->pandemic) (1.1.0)\n",
      "Requirement already satisfied: pyparsing!=2.0.4,!=2.1.2,!=2.1.6,>=2.0.1 in c:\\users\\julii\\anaconda3_1\\lib\\site-packages (from matplotlib->pandemic) (2.4.2)\n",
      "Requirement already satisfied: python-dateutil>=2.1 in c:\\users\\julii\\anaconda3_1\\lib\\site-packages (from matplotlib->pandemic) (2.8.0)\n",
      "Requirement already satisfied: urllib3!=1.25.0,!=1.25.1,<1.26,>=1.21.1 in c:\\users\\julii\\anaconda3_1\\lib\\site-packages (from requests->pandemic) (1.24.2)\n",
      "Requirement already satisfied: chardet<3.1.0,>=3.0.2 in c:\\users\\julii\\anaconda3_1\\lib\\site-packages (from requests->pandemic) (3.0.4)\n",
      "Requirement already satisfied: certifi>=2017.4.17 in c:\\users\\julii\\anaconda3_1\\lib\\site-packages (from requests->pandemic) (2019.9.11)\n",
      "Requirement already satisfied: idna<2.9,>=2.5 in c:\\users\\julii\\anaconda3_1\\lib\\site-packages (from requests->pandemic) (2.8)\n",
      "Requirement already satisfied: six in c:\\users\\julii\\anaconda3_1\\lib\\site-packages (from cycler>=0.10->matplotlib->pandemic) (1.12.0)\n",
      "Requirement already satisfied: setuptools in c:\\users\\julii\\anaconda3_1\\lib\\site-packages (from kiwisolver>=1.0.1->matplotlib->pandemic) (41.4.0)\n",
      "Building wheels for collected packages: python-geohash\n",
      "  Building wheel for python-geohash (setup.py): started\n",
      "  Building wheel for python-geohash (setup.py): finished with status 'error'\n",
      "  Running setup.py clean for python-geohash\n",
      "Failed to build python-geohash\n",
      "Installing collected packages: python-geohash, pandemic\n",
      "  Running setup.py install for python-geohash: started\n",
      "    Running setup.py install for python-geohash: finished with status 'error'\n",
      "Note: you may need to restart the kernel to use updated packages.\n"
     ]
    },
    {
     "name": "stderr",
     "output_type": "stream",
     "text": [
      "  ERROR: Command errored out with exit status 1:\n",
      "   command: 'C:\\Users\\julii\\Anaconda3_1\\python.exe' -u -c 'import sys, setuptools, tokenize; sys.argv[0] = '\"'\"'C:\\\\Users\\\\julii\\\\AppData\\\\Local\\\\Temp\\\\pip-install-_34l4iq3\\\\python-geohash\\\\setup.py'\"'\"'; __file__='\"'\"'C:\\\\Users\\\\julii\\\\AppData\\\\Local\\\\Temp\\\\pip-install-_34l4iq3\\\\python-geohash\\\\setup.py'\"'\"';f=getattr(tokenize, '\"'\"'open'\"'\"', open)(__file__);code=f.read().replace('\"'\"'\\r\\n'\"'\"', '\"'\"'\\n'\"'\"');f.close();exec(compile(code, __file__, '\"'\"'exec'\"'\"'))' bdist_wheel -d 'C:\\Users\\julii\\AppData\\Local\\Temp\\pip-wheel-39f9fc29' --python-tag cp37\n",
      "       cwd: C:\\Users\\julii\\AppData\\Local\\Temp\\pip-install-_34l4iq3\\python-geohash\\\n",
      "  Complete output (12 lines):\n",
      "  running bdist_wheel\n",
      "  running build\n",
      "  running build_py\n",
      "  creating build\n",
      "  creating build\\lib.win-amd64-3.7\n",
      "  copying geohash.py -> build\\lib.win-amd64-3.7\n",
      "  copying quadtree.py -> build\\lib.win-amd64-3.7\n",
      "  copying jpgrid.py -> build\\lib.win-amd64-3.7\n",
      "  copying jpiarea.py -> build\\lib.win-amd64-3.7\n",
      "  running build_ext\n",
      "  building '_geohash' extension\n",
      "  error: Microsoft Visual C++ 14.0 is required. Get it with \"Microsoft Visual C++ Build Tools\": https://visualstudio.microsoft.com/downloads/\n",
      "  ----------------------------------------\n",
      "  ERROR: Failed building wheel for python-geohash\n",
      "    ERROR: Command errored out with exit status 1:\n",
      "     command: 'C:\\Users\\julii\\Anaconda3_1\\python.exe' -u -c 'import sys, setuptools, tokenize; sys.argv[0] = '\"'\"'C:\\\\Users\\\\julii\\\\AppData\\\\Local\\\\Temp\\\\pip-install-_34l4iq3\\\\python-geohash\\\\setup.py'\"'\"'; __file__='\"'\"'C:\\\\Users\\\\julii\\\\AppData\\\\Local\\\\Temp\\\\pip-install-_34l4iq3\\\\python-geohash\\\\setup.py'\"'\"';f=getattr(tokenize, '\"'\"'open'\"'\"', open)(__file__);code=f.read().replace('\"'\"'\\r\\n'\"'\"', '\"'\"'\\n'\"'\"');f.close();exec(compile(code, __file__, '\"'\"'exec'\"'\"'))' install --record 'C:\\Users\\julii\\AppData\\Local\\Temp\\pip-record-uzmqc_r3\\install-record.txt' --single-version-externally-managed --compile\n",
      "         cwd: C:\\Users\\julii\\AppData\\Local\\Temp\\pip-install-_34l4iq3\\python-geohash\\\n",
      "    Complete output (12 lines):\n",
      "    running install\n",
      "    running build\n",
      "    running build_py\n",
      "    creating build\n",
      "    creating build\\lib.win-amd64-3.7\n",
      "    copying geohash.py -> build\\lib.win-amd64-3.7\n",
      "    copying quadtree.py -> build\\lib.win-amd64-3.7\n",
      "    copying jpgrid.py -> build\\lib.win-amd64-3.7\n",
      "    copying jpiarea.py -> build\\lib.win-amd64-3.7\n",
      "    running build_ext\n",
      "    building '_geohash' extension\n",
      "    error: Microsoft Visual C++ 14.0 is required. Get it with \"Microsoft Visual C++ Build Tools\": https://visualstudio.microsoft.com/downloads/\n",
      "    ----------------------------------------\n",
      "ERROR: Command errored out with exit status 1: 'C:\\Users\\julii\\Anaconda3_1\\python.exe' -u -c 'import sys, setuptools, tokenize; sys.argv[0] = '\"'\"'C:\\\\Users\\\\julii\\\\AppData\\\\Local\\\\Temp\\\\pip-install-_34l4iq3\\\\python-geohash\\\\setup.py'\"'\"'; __file__='\"'\"'C:\\\\Users\\\\julii\\\\AppData\\\\Local\\\\Temp\\\\pip-install-_34l4iq3\\\\python-geohash\\\\setup.py'\"'\"';f=getattr(tokenize, '\"'\"'open'\"'\"', open)(__file__);code=f.read().replace('\"'\"'\\r\\n'\"'\"', '\"'\"'\\n'\"'\"');f.close();exec(compile(code, __file__, '\"'\"'exec'\"'\"'))' install --record 'C:\\Users\\julii\\AppData\\Local\\Temp\\pip-record-uzmqc_r3\\install-record.txt' --single-version-externally-managed --compile Check the logs for full command output.\n"
     ]
    }
   ],
   "source": [
    "%pip install pandemic"
   ]
  },
  {
   "cell_type": "code",
   "execution_count": 2,
   "metadata": {},
   "outputs": [
    {
     "ename": "ModuleNotFoundError",
     "evalue": "No module named 'pandemic'",
     "output_type": "error",
     "traceback": [
      "\u001b[1;31m---------------------------------------------------------------------------\u001b[0m",
      "\u001b[1;31mModuleNotFoundError\u001b[0m                       Traceback (most recent call last)",
      "\u001b[1;32m<ipython-input-2-66df41a734e4>\u001b[0m in \u001b[0;36m<module>\u001b[1;34m\u001b[0m\n\u001b[1;32m----> 1\u001b[1;33m \u001b[1;32mfrom\u001b[0m \u001b[0mpandemic\u001b[0m \u001b[1;32mimport\u001b[0m \u001b[0mrun\u001b[0m\u001b[1;33m\u001b[0m\u001b[1;33m\u001b[0m\u001b[0m\n\u001b[0m\u001b[0;32m      2\u001b[0m \u001b[0mrun\u001b[0m\u001b[1;33m(\u001b[0m\u001b[1;33m)\u001b[0m\u001b[1;33m\u001b[0m\u001b[1;33m\u001b[0m\u001b[0m\n",
      "\u001b[1;31mModuleNotFoundError\u001b[0m: No module named 'pandemic'"
     ]
    }
   ],
   "source": [
    "from pandemic import run\n",
    "run()"
   ]
  }
 ],
 "metadata": {
  "kernelspec": {
   "display_name": "Python 3",
   "language": "python",
   "name": "python3"
  },
  "language_info": {
   "codemirror_mode": {
    "name": "ipython",
    "version": 3
   },
   "file_extension": ".py",
   "mimetype": "text/x-python",
   "name": "python",
   "nbconvert_exporter": "python",
   "pygments_lexer": "ipython3",
   "version": "3.7.4"
  }
 },
 "nbformat": 4,
 "nbformat_minor": 2
}
