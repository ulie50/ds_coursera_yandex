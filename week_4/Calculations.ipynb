{
 "cells": [
  {
   "cell_type": "code",
   "execution_count": 4,
   "metadata": {},
   "outputs": [
    {
     "name": "stdout",
     "output_type": "stream",
     "text": [
      "0.1847367554762278\n"
     ]
    }
   ],
   "source": [
    "import math \n",
    "lambd=3\n",
    "def pois(x):\n",
    "    p=((lambd**x)*math.e**(-lambd))/ math.factorial(x)\n",
    "    return p\n",
    "prob=pois(0)+pois(1)+pois(2)+pois(3)+ pois(4)\n",
    "print(1-prob)"
   ]
  },
  {
   "cell_type": "code",
   "execution_count": 9,
   "metadata": {},
   "outputs": [
    {
     "name": "stdout",
     "output_type": "stream",
     "text": [
      "0.4719068910760514 0.7780931089239487\n"
     ]
    }
   ],
   "source": [
    "#x=1 - new video\n",
    "#x=0-old\n",
    "sumxi=40.0*0.625\n",
    "p=sumxi/40.0\n",
    "\n",
    "sigma=math.sqrt((p*(1-p))/40)\n",
    "lower95=p- 2*sigma\n",
    "upper95=p + 2* sigma\n",
    "print(lower95,upper95)"
   ]
  }
 ],
 "metadata": {
  "kernelspec": {
   "display_name": "Python 3",
   "language": "python",
   "name": "python3"
  },
  "language_info": {
   "codemirror_mode": {
    "name": "ipython",
    "version": 3
   },
   "file_extension": ".py",
   "mimetype": "text/x-python",
   "name": "python",
   "nbconvert_exporter": "python",
   "pygments_lexer": "ipython3",
   "version": "3.7.3"
  }
 },
 "nbformat": 4,
 "nbformat_minor": 2
}
