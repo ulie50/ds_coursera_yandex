{
 "cells": [
  {
   "cell_type": "code",
   "execution_count": 3,
   "metadata": {},
   "outputs": [
    {
     "name": "stdout",
     "output_type": "stream",
     "text": [
      "     fun: -11.8988946659813\n",
      "     jac: array([0.])\n",
      " message: 'Optimization terminated successfully.'\n",
      "    nfev: 98\n",
      "     nit: 5\n",
      " success: True\n",
      "       x: array([25.88019329])\n"
     ]
    }
   ],
   "source": [
    "import math\n",
    "from scipy.optimize import differential_evolution\n",
    "import numpy as np\n",
    "\n",
    "def f(x):\n",
    "        return math.sin(float(x)/5.) * math.exp(float(x)/10.) + 5 * math.exp(float(-x)/2.)\n",
    "res1=differential_evolution(f,[(1,30)])   \n",
    "print(res1)\n",
    "\n",
    "f4=open('submission-2.txt','w')\n",
    "f4.write(str(round(res1.fun,2)))\n",
    "f4.close()"
   ]
  }
 ],
 "metadata": {
  "kernelspec": {
   "display_name": "Python 3",
   "language": "python",
   "name": "python3"
  },
  "language_info": {
   "codemirror_mode": {
    "name": "ipython",
    "version": 3
   },
   "file_extension": ".py",
   "mimetype": "text/x-python",
   "name": "python",
   "nbconvert_exporter": "python",
   "pygments_lexer": "ipython3",
   "version": "3.7.3"
  }
 },
 "nbformat": 4,
 "nbformat_minor": 2
}
