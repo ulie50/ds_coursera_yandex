{
 "cells": [
  {
   "cell_type": "markdown",
   "metadata": {},
   "source": [
    "The aim of this task was to find the shortest path from 12 to 34."
   ]
  },
  {
   "cell_type": "code",
   "execution_count": 1,
   "metadata": {},
   "outputs": [],
   "source": [
    "from pyspark import SparkConf, SparkContext\n",
    "sc = SparkContext(conf=SparkConf().setAppName(\"MyApp\").setMaster(\"yarn\"))"
   ]
  },
  {
   "cell_type": "code",
   "execution_count": 2,
   "metadata": {},
   "outputs": [],
   "source": [
    "def parse_edge(s):\n",
    "    user, follower = s.split(\"\\t\")\n",
    "    return (int(user), int(follower))\n",
    "\n",
    "def step(item):\n",
    "    prev_v, prev_path, next_v = item[0], item[1][0], item[1][1]\n",
    "    return (next_v, prev_path + [next_v])\n",
    "\n",
    "def found():\n",
    "    return  paths.filter(lambda x: x[0] == v_to).count()\n",
    "\n",
    "v_from,v_to = 12,34\n",
    "numPartitions = 4\n",
    "edges = sc.textFile(\"/data/twitter/twitter_sample_small.txt\").map(parse_edge).cache()\n",
    "\n",
    "#here we bring data to the view follower user (k,v) for join bc we do join on k\n",
    "forward_edges = edges.map(lambda e: (e[1], e[0])).partitionBy(numPartitions).persist()\n",
    "\n",
    "#here we create an array for a path \n",
    "paths = sc.parallelize([(v_from, [v_from])]).partitionBy(numPartitions)\n",
    "\n",
    "while found()==0:\n",
    "    paths = paths.join(forward_edges, numPartitions).map(step)\n",
    "paths.cache()\n",
    "shortest_path = paths.filter(lambda x: x[0] == v_to).collect()"
   ]
  },
  {
   "cell_type": "code",
   "execution_count": 3,
   "metadata": {},
   "outputs": [
    {
     "name": "stdout",
     "output_type": "stream",
     "text": [
      "12, 422, 53, 52, 107, 20, 23, 274, 34\n"
     ]
    }
   ],
   "source": [
    "print (str(shortest_path[0][1]).strip('[]'))"
   ]
  },
  {
   "cell_type": "code",
   "execution_count": 4,
   "metadata": {},
   "outputs": [],
   "source": [
    "sc.stop()"
   ]
  }
 ],
 "metadata": {
  "kernelspec": {
   "display_name": "Python 3",
   "language": "python",
   "name": "python3"
  },
  "language_info": {
   "codemirror_mode": {
    "name": "ipython",
    "version": 3
   },
   "file_extension": ".py",
   "mimetype": "text/x-python",
   "name": "python",
   "nbconvert_exporter": "python",
   "pygments_lexer": "ipython3",
   "version": "3.7.4"
  }
 },
 "nbformat": 4,
 "nbformat_minor": 2
}
