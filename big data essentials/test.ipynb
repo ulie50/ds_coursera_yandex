{
 "cells": [
  {
   "cell_type": "code",
   "execution_count": 40,
   "metadata": {},
   "outputs": [
    {
     "name": "stdout",
     "output_type": "stream",
     "text": [
      "None\n",
      "9258\tw\tinternational\t0\n",
      "9258\tw\tassociation\t1\n",
      "9258\tw\tgeoethics\t2\n",
      "9258\tw\tiageth\t3\n",
      "9258\tw\tinternational\t4\n",
      "9258\tw\tassociation\t5\n",
      "9258\tw\tpromoting\t6\n",
      "9258\tw\tgeoethics\t7\n",
      "9258\tw\tiapg)\t8\n",
      "9259\tw\tinternational\t9\n"
     ]
    }
   ],
   "source": [
    "test=\"test.txt\"\n",
    "\n",
    "\n",
    "current_id = None\n",
    "current_word = None\n",
    "word_tag=\"w\"\n",
    "word_sum = 0\n",
    "with open(path) as f1:\n",
    "    for line in f1:\n",
    "        try:\n",
    "            art_id,tag,rest= line.strip().split('\\t', 2)\n",
    "\n",
    "        except ValueError as e:\n",
    "            print(e)\n",
    "            continue\n",
    "            \n",
    "        if tag==\"a\":\n",
    "                continue\n",
    "        else:\n",
    "            word,count=rest.strip().split('\\t', 1)\n",
    "            count=int(count)\n",
    "            if current_id != art_id and current_word!=word:\n",
    "                if current_id and current_word:\n",
    "                    print (\"%s\\t%s\\t%s\\t%d\" % (art_id,word_tag, word.lower(),word_sum))\n",
    "                word_sum = 0\n",
    "                current_word = word\n",
    "                current_id=art_id\n",
    "            else: word_sum += count\n",
    "\n",
    "        if current_id and current_word:\n",
    "            print (\"%s\\t%s\\t%s\\t%d\" % (art_id,word_tag,word.lower(),word_sum))"
   ]
  },
  {
   "cell_type": "code",
   "execution_count": 7,
   "metadata": {},
   "outputs": [],
   "source": [
    "current_id"
   ]
  },
  {
   "cell_type": "code",
   "execution_count": 8,
   "metadata": {},
   "outputs": [
    {
     "name": "stdout",
     "output_type": "stream",
     "text": [
      "['1', 'blabla bla bla bka']\n",
      "['2', 'booo bla bla bla']\n",
      "['3', 'bebe bka bla']\n"
     ]
    }
   ],
   "source": [
    "path = 'test.txt'\n",
    "with open(path) as f1:\n",
    "    for l in f1:\n",
    "        print(l.strip().split( '___'))\n",
    "        #art_id,tag, rest = line.strip().split('\\t', 1)\n",
    "        #print (\"%s\\t%s\\t%s\" % (art_id,tag,rest))\n"
   ]
  },
  {
   "cell_type": "code",
   "execution_count": 37,
   "metadata": {},
   "outputs": [
    {
     "name": "stdout",
     "output_type": "stream",
     "text": [
      "['9258', 'w', 'international\\t1\\n']\n",
      "['9258', 'w', 'association\\t1\\n']\n",
      "['9258', 'w', 'geoethics\\t1\\n']\n",
      "['9258', 'w', 'iageth\\t1\\n']\n",
      "['9258', 'w', 'international\\t1\\n']\n",
      "['9258', 'w', 'association\\t1\\n']\n",
      "['9258', 'w', 'promoting\\t1\\n']\n",
      "['9258', 'w', 'geoethics\\t1\\n']\n",
      "['9258', 'w', 'iapg)\\t1\\n']\n",
      "['9258', 'a', '3609']\n"
     ]
    }
   ],
   "source": [
    "path = 'test.txt'\n",
    "with open(path) as f1:\n",
    "    for l in f1:\n",
    "        print(l.split('\\t',2))\n",
    "       # print(line.strip().split('.', 2))\n",
    "        #art_id,tag, rest = line.strip().split('\\t', 1)\n",
    "        #print (\"%s\\t%s\\t%s\" % (art_id,tag,rest))"
   ]
  },
  {
   "cell_type": "code",
   "execution_count": 31,
   "metadata": {},
   "outputs": [
    {
     "ename": "AttributeError",
     "evalue": "'str' object has no attribute 'close'",
     "output_type": "error",
     "traceback": [
      "\u001b[1;31m---------------------------------------------------------------------------\u001b[0m",
      "\u001b[1;31mAttributeError\u001b[0m                            Traceback (most recent call last)",
      "\u001b[1;32m<ipython-input-31-ddf3e080ecf0>\u001b[0m in \u001b[0;36m<module>\u001b[1;34m\u001b[0m\n\u001b[1;32m----> 1\u001b[1;33m \u001b[0mpath\u001b[0m\u001b[1;33m.\u001b[0m\u001b[0mclose\u001b[0m\u001b[1;33m(\u001b[0m\u001b[1;33m)\u001b[0m\u001b[1;33m\u001b[0m\u001b[1;33m\u001b[0m\u001b[0m\n\u001b[0m",
      "\u001b[1;31mAttributeError\u001b[0m: 'str' object has no attribute 'close'"
     ]
    }
   ],
   "source": [
    "path.close()"
   ]
  },
  {
   "cell_type": "code",
   "execution_count": 3,
   "metadata": {},
   "outputs": [
    {
     "data": {
      "text/plain": [
       "['9258\\tw\\tinternational\\t1',\n",
       " '9258\\tw\\tassociation\\t1',\n",
       " '9258\\tw\\tgeoethics\\t1',\n",
       " '9258\\tw\\tiageth\\t1',\n",
       " '9258\\tw\\tinternational\\t1',\n",
       " '9258\\tw\\tassociation\\t1',\n",
       " '9258\\tw\\tpromoting\\t1',\n",
       " '9258\\tw\\tgeoethics\\t1',\n",
       " '9258\\tw\\tiapg)\\t1',\n",
       " '9258\\ta\\t3609']"
      ]
     },
     "execution_count": 3,
     "metadata": {},
     "output_type": "execute_result"
    }
   ],
   "source": [
    "test"
   ]
  },
  {
   "cell_type": "code",
   "execution_count": 28,
   "metadata": {},
   "outputs": [
    {
     "name": "stdout",
     "output_type": "stream",
     "text": [
      "bka\t1\t0.250000\n",
      "bla\t1\t0.500000\n",
      "blabla\t1\t0.250000\n",
      "bla\t2\t1.000000\n",
      "bka\t3\t0.500000\n",
      "bla\t3\t0.500000\n"
     ]
    }
   ],
   "source": [
    "import sys\n",
    "import re\n",
    "import collections\n",
    "        \n",
    "def filt_out_sw(list_words,stop_words):\n",
    "    filtered=[]\n",
    "    for word in list_words:\n",
    "        if word in stop_words:\n",
    "            continue\n",
    "        else:\n",
    "            filtered.append(word.lower().strip())\n",
    "    return filtered\n",
    "    \n",
    "path = 'stop_words.txt'\n",
    "\n",
    "stop_words=[]\n",
    "\n",
    "with open(path) as f1:\n",
    "    for l in f1:\n",
    "        stop_words.append(l.strip())\n",
    "        \n",
    "with open('test.txt') as f1:        \n",
    "    for line in f1:\n",
    "        try:\n",
    "            article_id, text = line.strip().split('___', 1)\n",
    "        except ValueError as e:\n",
    "            print(e)\n",
    "            continue\n",
    "        words = re.split(\"\\W*\\s+\\W*\", text, flags=re.UNICODE)\n",
    "        f_words=filt_out_sw(words,stop_words)\n",
    "        counted_words=collections.Counter(f_words)\n",
    "        total_words=sum(counted_words.values())\n",
    "        for word, count in sorted(counted_words.items()):\n",
    "            if not word.isalpha(): \n",
    "                continue\n",
    "            else:\n",
    "                tf = float(count)/float(total_words)\n",
    "                print(\"%s\\t%s\\t%f\"%(word, article_id, tf))"
   ]
  },
  {
   "cell_type": "code",
   "execution_count": 47,
   "metadata": {},
   "outputs": [
    {
     "name": "stdout",
     "output_type": "stream",
     "text": [
      "bka\t1\t0.180337\n",
      "bka\t3\t0.360674\n",
      "bla\t3\t0.310667\n",
      "bla\t2\t0.621335\n",
      "blabla\t2\t0.910239\n"
     ]
    }
   ],
   "source": [
    "import sys\n",
    "import math\n",
    "\n",
    "current_word = None\n",
    "art_count = 0\n",
    "tf_memory = {}\n",
    "        \n",
    "with open('r_test.txt') as f1:\n",
    "    for line in f1:\n",
    "        try:\n",
    "            word,art_id,tf= line.strip().split('\\t', 2)\n",
    "            tf=float(tf)\n",
    "            \n",
    "            if current_word != word:\n",
    "                if current_word:\n",
    "                    idf = float(1)/math.log(1 + art_count)\n",
    "                    for art_id, tf in tf_memory.items():\n",
    "                        print(\"{}\\t{}\\t{:f}\".format(current_word, art_id, tf*idf))\n",
    "                        \n",
    "                current_word = word\n",
    "                art_count = 1\n",
    "                tf_memory.clear()\n",
    "            \n",
    "            art_count += 1\n",
    "            tf_memory[art_id] = float(tf)\n",
    "\n",
    "        except ValueError as e:\n",
    "            continue\n",
    "\n",
    "\n",
    "if current_word:\n",
    "    idf = float(1)/math.log(1 + art_count)\n",
    "    for art_id, tf in tf_memory.items():\n",
    "        print(\"{}\\t{}\\t{:f}\".format(current_word, art_id, tf*idf))\n",
    "\n"
   ]
  },
  {
   "cell_type": "code",
   "execution_count": 49,
   "metadata": {},
   "outputs": [
    {
     "name": "stdout",
     "output_type": "stream",
     "text": [
      "bka\t1\t0.180337\n",
      "bka\t3\t0.360674\n",
      "bla\t3\t0.310667\n",
      "bla\t2\t0.621335\n",
      "blabla\t2\t0.910239\n"
     ]
    }
   ],
   "source": [
    "import sys\n",
    "import math\n",
    "\n",
    "current_word = None\n",
    "art_count = 0\n",
    "tf_memory = {}\n",
    "\n",
    "with open('r_test.txt') as f1:\n",
    "    for line in f1:\n",
    "        try:\n",
    "            word,art_id,tf= line.strip().split('\\t', 2)\n",
    "            tf=float(tf)\n",
    "            \n",
    "            if current_word != word:\n",
    "                if current_word:\n",
    "                    idf = float(1)/math.log(1 + art_count)\n",
    "                    for art_id, tf in tf_memory.items():\n",
    "                        print(\"{}\\t{}\\t{:f}\".format(current_word, art_id, tf*idf))\n",
    "                        \n",
    "                current_word = word\n",
    "                art_count = 1\n",
    "                tf_memory.clear()\n",
    "            \n",
    "            art_count += 1\n",
    "            tf_memory[art_id] = float(tf)\n",
    "\n",
    "        except ValueError as e:\n",
    "            continue\n",
    "\n",
    "\n",
    "if current_word:\n",
    "    idf = float(1)/math.log(1 + art_count)\n",
    "    for art_id, tf in tf_memory.items():\n",
    "        print(\"{}\\t{}\\t{:f}\".format(current_word, art_id, tf*idf))"
   ]
  }
 ],
 "metadata": {
  "kernelspec": {
   "display_name": "Python 3",
   "language": "python",
   "name": "python3"
  },
  "language_info": {
   "codemirror_mode": {
    "name": "ipython",
    "version": 3
   },
   "file_extension": ".py",
   "mimetype": "text/x-python",
   "name": "python",
   "nbconvert_exporter": "python",
   "pygments_lexer": "ipython3",
   "version": "3.7.4"
  }
 },
 "nbformat": 4,
 "nbformat_minor": 2
}
