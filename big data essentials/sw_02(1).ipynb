{
 "cells": [
  {
   "cell_type": "markdown",
   "metadata": {},
   "source": [
    "#### Common warnings:\n",
    "\n",
    "1. __Backup your solution into the 'work' directory inside the home directory ('/home/jovyan'). It is the only one that state will be saved over sessions.__\n",
    "\n",
    "1. Please, ensure that you call the right interpreter (python2 or python3). Do not write just \"python\" without the major version. There is no guarantee that any particular version of Python is set as the default one in the Grading system.\n",
    "\n",
    "1. One cell must contain only one programming language.\n",
    "E.g. if a cell contains Python code and you also want to call a bash-command (using “!”) in it, you should move the bash to another cell.\n",
    "\n",
    "1. Our IPython converter is an improved version of the standard converter Nbconvert and it can process most of Jupyter's magic commands correctly (e.g. it understands \"%%bash\" and executes the cell as a \"bash\"-script). However, we highly recommend to avoid magics wherever possible.\n",
    "\n",
    "#### Hints for the YARN tasks:\n",
    "\n",
    "1. Please, use relative HDFS paths, i.e. dir1/file1 instead of /user/jovyan/dir1/file1. When you submit the code it will be executed on a real Hadoop cluster. For instance, user ‘jovyan’ may not exist there.\n",
    "\n",
    "1. Hadoop counters’ names should have only small latin letters. One exception: only the first letter of the name can be in upper case.\n",
    "\n",
    "1. In the Hadoop logs the counter of stop words should be before the counter of total words. For doing this please take into account that the counters are printed in the lexicographical order."
   ]
  },
  {
   "cell_type": "markdown",
   "metadata": {},
   "source": [
    "# Hadoop Streaming assignment 2: Stop Words"
   ]
  },
  {
   "cell_type": "markdown",
   "metadata": {},
   "source": [
    "The purpose of this task is to improve the previous \"Word rating\" program. You have to calculate how many stop words are there in the input dataset. Stop words list is in `/datasets/stop_words_en.txt` file. \n",
    "\n",
    "Use Hadoop counters to compute the number of stop words and total words in the dataset. The result is the percentage of stop words in the entire dataset (without percent symbol).\n",
    "\n",
    "There are several points for this task:\n",
    "\n",
    "1) As an output, you have to get the percentage of stop words in the entire dataset without percent symbol (correct answer on sample dataset is `41.603`).\n",
    "\n",
    "2) As you can see in the Hadoop Streaming userguide \"you will need to use `-files` option to tell the framework to pack your executable files as a part of a job submission.\"\n",
    "\n",
    "3) Do not forget to redirect junk output to `/dev/null`.\n",
    "\n",
    "4) You may modify mappers/reducers from \"Word rating\" task and parse its output to get the answer on \"Stop Words\" task.\n",
    "\n",
    "5) You may use mapper/reducer to get `\"Stop Words\"` and `\"Total Words\"` amounts and redirect them to sys.stderr. After that you may redirect the output of MapReduce to the parsed function. In this function you may find rows correspond to these amounts and compute the percentage.\n",
    "\n",
    "Here you can find the draft for the main steps of the task. You can use other methods to get the solution."
   ]
  },
  {
   "cell_type": "markdown",
   "metadata": {},
   "source": [
    "## Step 1. Create the mapper.\n",
    "\n",
    "<b>Hint:</b> Create the mapper, which calculates Total word and Stop word amounts. You may redirect this information to sys.stderr. This will make it possible to parse these data on the next steps.\n",
    "\n",
    "Example of the redirections (see the \"eprint\" definition in the cell below):\n",
    "\n",
    "`eprint(\"reporter:counter:Wiki stats,Total words,%d\" % count)`\n",
    "\n",
    "Remember about the Distributed cache. If we add option `-files mapper.py,reducer.py,/datasets/stop_words_en.txt`, then `mapper.py, reducer.py` and `stop_words_en.txt` file will be in the same directory on the datanodes. Hence, it is necessary to use a relative path `stop_words_en.txt` from the mapper to access this txt file."
   ]
  },
  {
   "cell_type": "code",
   "execution_count": 1,
   "metadata": {},
   "outputs": [
    {
     "name": "stdout",
     "output_type": "stream",
     "text": [
      "Overwriting mapper_wiki_parser.py\n"
     ]
    }
   ],
   "source": [
    "%%writefile mapper_wiki_parser.py\n",
    "\n",
    "import sys\n",
    "import re\n",
    "\n",
    "\n",
    "def eprint(*args, **kwargs):\n",
    "    print(*args, file=sys.stderr, **kwargs)\n",
    "\n",
    "path = 'stop_words_en.txt'\n",
    "\n",
    "stop_words=[]\n",
    "s_w_count=0\n",
    "t_w_count=0\n",
    "\n",
    "with open(path) as f1:\n",
    "    for l in f1:\n",
    "        stop_words.append(l.strip())      \n",
    "\n",
    "for line in sys.stdin:\n",
    "    try:\n",
    "        article_id, text = line.strip().split('\\t', 1)\n",
    "    except ValueError as e:\n",
    "        continue\n",
    "\n",
    "    words = re.split(\"\\W*\\s+\\W*\", text, flags=re.UNICODE)\n",
    "    \n",
    "    for word in words: \n",
    "        t_w_count+=1\n",
    "        if word in stop_words:\n",
    "            s_w_count+=1\n",
    "               \n",
    "eprint(\"reporter:counter:Wiki stats,Total words,%d\" % t_w_count)\n",
    "eprint(\"reporter:counter:Wiki stats,Stop words,%d\" % s_w_count)"
   ]
  },
  {
   "cell_type": "markdown",
   "metadata": {},
   "source": [
    "## Step 2. Create the reducer.\n",
    "\n",
    "Create the reducer, which will accumulate the information after the mapper step. You may implement the combiner if you want. It can be useful from optimizing and speed up your computations (see the lectures from the Week 2 for more details)."
   ]
  },
  {
   "cell_type": "markdown",
   "metadata": {},
   "source": [
    "## Step 3. Create the parsing function.\n",
    "\n",
    "<b>Hint:</b> Create the function, which will parse MapReduce sys.stderr for Total word and Stop word amounts.\n",
    "\n",
    "The `./counter_process.py` script should do the following:\n",
    "\n",
    "- parse hadoop logs from Stderr,\n",
    "\n",
    "- retrieve values of 2 user-defined counters,\n",
    "\n",
    "- compute percentage and output it into the stdout."
   ]
  },
  {
   "cell_type": "code",
   "execution_count": 2,
   "metadata": {},
   "outputs": [
    {
     "name": "stdout",
     "output_type": "stream",
     "text": [
      "Overwriting counter_process.py\n"
     ]
    }
   ],
   "source": [
    "%%writefile counter_process.py\n",
    "\n",
    "#! /usr/bin/env python\n",
    "import sys\n",
    "import re\n",
    "\n",
    "def search_in_log(sw,tw):\n",
    "    sw_obj=re.compile(rf\"^(.*)({sw})=(.*)$\")\n",
    "    tw_obj=re.compile(rf\"^(.*)({tw})=(.*)$\")\n",
    "\n",
    "#sw_obj=re.compile(r\"^(.*)(%s)(=)(.*)$\"%sw)\n",
    "#  tw_obj=re.compile(rf\"^(.*)(%s)(=)(.*)$\"%tw)\n",
    "\n",
    "    \n",
    "    logs = sys.stdin.readlines()\n",
    "    for l in logs:\n",
    "        if sw_obj.search(l):\n",
    "            sw_count=int(sw_obj.search(l).group(3))\n",
    "        elif tw_obj.search(l.strip()):\n",
    "            tw_count=int(tw_obj.search(l).group(3))\n",
    "    print((sw_count/tw_count)*100)\n",
    "\n",
    "\n",
    "\n",
    "if __name__ == '__main__':\n",
    "    search_in_log(sys.argv[1],sys.argv[2])"
   ]
  },
  {
   "cell_type": "markdown",
   "metadata": {},
   "source": [
    "## Step 4. Bash commands\n",
    "\n",
    "<b> Hints: </b> \n",
    "\n",
    "1) If you want to redirect standard output to txt file you may use the following argument in yarn jar:\n",
    "\n",
    "```\n",
    "yarn ... \\\n",
    "  ... \\\n",
    "  -output ${OUT_DIR} > /dev/null 2> $LOGS\n",
    "```\n",
    "\n",
    "2) For printing the percentage of stop words in the entire dataset you may parse the MapReduce output. Parsed script may be written in Python code. \n",
    "\n",
    "To get the result you may use the UNIX pipe operator `|`. The output of the first command acts as an input to the second command (see lecture file-content-exploration-2 for more details).\n",
    "\n",
    "With this operator you may use command `cat` to redirect the output of MapReduce to ./counter_process.py with arguments, which correspond to the `\"Stop words\"` and `\"Total words\"` counters. Example is the following:\n",
    "\n",
    "`cat $LOGS | python ./counter_process.py \"Stop words\" \"Total words\"`\n",
    "\n",
    "Now something about Hadoop counters naming. \n",
    " - Built-in Hadoop counters usually have UPPER_CASE names. To make the grading system possible to distinguish your custom counters and system ones please use the following pattern for their naming: `[Aa]aaa...` (all except the first letters should be in lowercase);\n",
    " - Another points is how Hadoop sorts the counters. It sorts them lexicographically. Grading system reads your first counter as Stop words counter and the second as Total words. Please name you counters in such way that Hadoop set the Stop words counter before the Total words. \n",
    " \n",
    "E.g. \"Stop words\" and \"Total words\" names are Ok because they correspond both requirements.\n",
    "\n",
    "3) In Python code sys.argv is a list, which contains the command-line arguments passed to the script. The name of the script is in `sys.argv[0]`. Other arguments begin from `sys.argv[1]`.\n",
    "\n",
    "Hence, if you have two arguments, which you send from the Bash to your python script, you may use arguments in your script with the following command:\n",
    "\n",
    "`function(sys.argv[1], sys.argv[2])`\n",
    "\n",
    "4) Do not forget about printing your MapReduce output in the last cell. You may use the next command:\n",
    "\n",
    "`cat $LOGS >&2`\n",
    "\n",
    "__NB__: Please, use a defined python major version (e.g. `python3 mappper.py` instead of `python mapper.py`)!"
   ]
  },
  {
   "cell_type": "markdown",
   "metadata": {},
   "source": [
    "Only the answer to your task should be printed in the output stream (__stdout__) in the last cell. There should be no more output in this stream. In order to get rid of garbage [junk lines] (e.g. created by `hdfs dfs -rm` or `yarn` commands) redirect the output to /dev/null.\n",
    "\n",
    "#### Final notice:\n",
    "\n",
    "1. Please take into account that you must __not__ redirect __stderr__ to anywhere. Hadoop, Hive, and Spark print their logs to stderr and the Grading system also reads and analyses it.\n",
    "\n",
    "1. During checking the code from the notebook, the system runs all notebook's cells and reads the output of only the last filled cell. It is clear that any exception should not be thrown in the running cells. If you decide to write some text in a cell, you should change the style of the cell to Markdown (Cell -> Cell type -> Markdown).\n",
    "\n",
    "1. The Grader takes into account the output from the sample dataset you have in the notebook. Therefore, you have to \"Run All\" cells in the notebook before you send the ipynb solution.\n",
    "\n",
    "1. The name of the notebook must contain only Roman letters, numbers and characters “-” or “_”. For example, Windows adds something like \" (2)\" (with the leading space) at the end of a filename if you try to download a file with the same name. This is a problem, because you will have a space character and curly braces \"(\" and \")\". "
   ]
  },
  {
   "cell_type": "code",
   "execution_count": 3,
   "metadata": {},
   "outputs": [
    {
     "name": "stdout",
     "output_type": "stream",
     "text": [
      "38.44036900909957\n"
     ]
    },
    {
     "name": "stderr",
     "output_type": "stream",
     "text": [
      "21/01/06 18:59:43 INFO client.RMProxy: Connecting to ResourceManager at /0.0.0.0:8032\n",
      "21/01/06 18:59:44 INFO client.RMProxy: Connecting to ResourceManager at /0.0.0.0:8032\n",
      "21/01/06 18:59:45 INFO mapred.FileInputFormat: Total input files to process : 1\n",
      "21/01/06 18:59:46 INFO mapreduce.JobSubmitter: number of splits:2\n",
      "21/01/06 18:59:46 INFO Configuration.deprecation: yarn.resourcemanager.system-metrics-publisher.enabled is deprecated. Instead, use yarn.system-metrics-publisher.enabled\n",
      "21/01/06 18:59:46 INFO mapreduce.JobSubmitter: Submitting tokens for job: job_1609958315846_0008\n",
      "21/01/06 18:59:46 INFO conf.Configuration: resource-types.xml not found\n",
      "21/01/06 18:59:46 INFO resource.ResourceUtils: Unable to find 'resource-types.xml'.\n",
      "21/01/06 18:59:46 INFO resource.ResourceUtils: Adding resource type - name = memory-mb, units = Mi, type = COUNTABLE\n",
      "21/01/06 18:59:46 INFO resource.ResourceUtils: Adding resource type - name = vcores, units = , type = COUNTABLE\n",
      "21/01/06 18:59:46 INFO impl.YarnClientImpl: Submitted application application_1609958315846_0008\n",
      "21/01/06 18:59:46 INFO mapreduce.Job: The url to track the job: http://172.17.0.23:8088/proxy/application_1609958315846_0008/\n",
      "21/01/06 18:59:46 INFO mapreduce.Job: Running job: job_1609958315846_0008\n",
      "21/01/06 18:59:51 INFO mapreduce.Job: Job job_1609958315846_0008 running in uber mode : false\n",
      "21/01/06 18:59:51 INFO mapreduce.Job:  map 0% reduce 0%\n",
      "21/01/06 19:00:07 INFO mapreduce.Job:  map 58% reduce 0%\n",
      "21/01/06 19:00:14 INFO mapreduce.Job:  map 88% reduce 0%\n",
      "21/01/06 19:00:17 INFO mapreduce.Job:  map 100% reduce 0%\n",
      "21/01/06 19:00:19 INFO mapreduce.Job: Job job_1609958315846_0008 completed successfully\n",
      "21/01/06 19:00:19 INFO mapreduce.Job: Counters: 32\n",
      "\tFile System Counters\n",
      "\t\tFILE: Number of bytes read=0\n",
      "\t\tFILE: Number of bytes written=417044\n",
      "\t\tFILE: Number of read operations=0\n",
      "\t\tFILE: Number of large read operations=0\n",
      "\t\tFILE: Number of write operations=0\n",
      "\t\tHDFS: Number of bytes read=76874501\n",
      "\t\tHDFS: Number of bytes written=0\n",
      "\t\tHDFS: Number of read operations=10\n",
      "\t\tHDFS: Number of large read operations=0\n",
      "\t\tHDFS: Number of write operations=4\n",
      "\tJob Counters \n",
      "\t\tLaunched map tasks=2\n",
      "\t\tData-local map tasks=2\n",
      "\t\tTotal time spent by all maps in occupied slots (ms)=46188\n",
      "\t\tTotal time spent by all reduces in occupied slots (ms)=0\n",
      "\t\tTotal time spent by all map tasks (ms)=46188\n",
      "\t\tTotal vcore-milliseconds taken by all map tasks=46188\n",
      "\t\tTotal megabyte-milliseconds taken by all map tasks=47296512\n",
      "\tMap-Reduce Framework\n",
      "\t\tMap input records=4100\n",
      "\t\tMap output records=0\n",
      "\t\tInput split bytes=228\n",
      "\t\tSpilled Records=0\n",
      "\t\tFailed Shuffles=0\n",
      "\t\tMerged Map outputs=0\n",
      "\t\tGC time elapsed (ms)=160\n",
      "\t\tCPU time spent (ms)=35400\n",
      "\t\tPhysical memory (bytes) snapshot=345849856\n",
      "\t\tVirtual memory (bytes) snapshot=3831115776\n",
      "\t\tTotal committed heap usage (bytes)=196083712\n",
      "\tWiki stats\n",
      "\t\tStop words=4588771\n",
      "\t\tTotal words=11937375\n",
      "\tFile Input Format Counters \n",
      "\t\tBytes Read=76874273\n",
      "\tFile Output Format Counters \n",
      "\t\tBytes Written=0\n",
      "21/01/06 19:00:19 INFO streaming.StreamJob: Output directory: coursera_mr_task2\n"
     ]
    }
   ],
   "source": [
    "%%bash\n",
    "\n",
    "OUT_DIR=\"coursera_mr_task2\"\n",
    "NUM_REDUCERS=0\n",
    "LOGS=\"stderr_logs.txt\"\n",
    "\n",
    "hdfs dfs -rm -r -skipTrash ${OUT_DIR} > /dev/null\n",
    "\n",
    "# Stub code for your job\n",
    "\n",
    "yarn jar /opt/cloudera/parcels/CDH/lib/hadoop-mapreduce/hadoop-streaming.jar  \\\n",
    "    -D mapreduce.job.name=\"Streaming wordCount\" \\\n",
    "    -D mapreduce.job.reduces=${NUM_REDUCERS} \\\n",
    "    -files mapper_wiki_parser.py,/datasets/stop_words_en.txt\\\n",
    "    -mapper \"python3 mapper_wiki_parser.py\" \\\n",
    "    -input /data/wiki/en_articles_part \\\n",
    "    -output ${OUT_DIR} > /dev/null 2> $LOGS\n",
    "    \n",
    "cat $LOGS | python3 ./counter_process.py \"Stop words\" \"Total words\"\n",
    "cat $LOGS >&2\n",
    "    "
   ]
  }
 ],
 "metadata": {
  "kernelspec": {
   "display_name": "Python 3",
   "language": "python",
   "name": "python3"
  },
  "language_info": {
   "codemirror_mode": {
    "name": "ipython",
    "version": 3
   },
   "file_extension": ".py",
   "mimetype": "text/x-python",
   "name": "python",
   "nbconvert_exporter": "python",
   "pygments_lexer": "ipython3",
   "version": "3.6.6"
  }
 },
 "nbformat": 4,
 "nbformat_minor": 2
}
