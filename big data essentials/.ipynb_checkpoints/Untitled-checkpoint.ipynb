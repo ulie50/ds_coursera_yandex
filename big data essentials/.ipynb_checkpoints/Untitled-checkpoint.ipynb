{
 "cells": [
  {
   "cell_type": "code",
   "execution_count": null,
   "metadata": {},
   "outputs": [],
   "source": [
    "test=\n",
    "\n",
    "\n",
    "current_id = None\n",
    "current_word = None\n",
    "word_tag=\"w\"\n",
    "word_sum = 0\n",
    "for line in:\n",
    "    try:\n",
    "        art_id,tag, rest = line.strip().split('\\t', 1)\n",
    "\n",
    "    except ValueError as e:\n",
    "        continue\n",
    "    if tag=\"a\":\n",
    "            continue\n",
    "        \n",
    "    word,count=rest.strip().split('\\t', 1)\n",
    "    count=int(count)\n",
    "    if current_id != art_id and current_word!=word:\n",
    "        if current_id and current_word:\n",
    "            print (\"%s\\t%s\\t%s\\t%d\" % (article_id,word_tag, word.lower(),word_sum))\n",
    "        word_sum = 0\n",
    "        current_word = word\n",
    "        current_id=art_id\n",
    "    word_sum += count\n",
    "\n",
    "if current_id and current_word:\n",
    "    print (\"%s\\t%s\\t%s\\t%d\" % (article_id,word_tag,word.lower(),word_sum))"
   ]
  }
 ],
 "metadata": {
  "kernelspec": {
   "display_name": "Python 3",
   "language": "python",
   "name": "python3"
  },
  "language_info": {
   "codemirror_mode": {
    "name": "ipython",
    "version": 3
   },
   "file_extension": ".py",
   "mimetype": "text/x-python",
   "name": "python",
   "nbconvert_exporter": "python",
   "pygments_lexer": "ipython3",
   "version": "3.7.4"
  }
 },
 "nbformat": 4,
 "nbformat_minor": 2
}
