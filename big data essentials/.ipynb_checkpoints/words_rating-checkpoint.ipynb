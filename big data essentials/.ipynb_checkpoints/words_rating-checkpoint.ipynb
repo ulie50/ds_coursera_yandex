{
 "cells": [
  {
   "cell_type": "markdown",
   "metadata": {},
   "source": [
    "#### Common warnings:\n",
    "\n",
    "1. __Backup your solution into the 'work' directory inside the home directory ('/home/jovyan'). It is the only one that state will be saved over sessions.__\n",
    "\n",
    "1. Please, ensure that you call the right interpreter (python2 or python3). Do not write just \"python\" without the major version. There is no guarantee that any particular version of Python is set as the default one in the Grading system.\n",
    "\n",
    "1. One cell must contain only one programming language.\n",
    "E.g. if a cell contains Python code and you also want to call a bash-command (using “!”) in it, you should move the bash to another cell.\n",
    "\n",
    "1. Our IPython converter is an improved version of the standard converter Nbconvert and it can process most of Jupyter's magic commands correctly (e.g. it understands \"%%bash\" and executes the cell as a \"bash\"-script). However, we highly recommend to avoid magics wherever possible.\n",
    "\n",
    "#### Hints for the YARN tasks:\n",
    "\n",
    "1. Please, use relative HDFS paths, i.e. dir1/file1 instead of /user/jovyan/dir1/file1. When you submit the code it will be executed on a real Hadoop cluster. For instance, user ‘jovyan’ may not exist there.\n",
    "\n",
    "1. Hadoop counters’ names should have only small latin letters. One exception: only the first letter of the name can be in upper case.\n",
    "\n",
    "1. In the Hadoop logs the counter of stop words should be before the counter of total words. For doing this please take into account that the counters are printed in the lexicographical order."
   ]
  },
  {
   "cell_type": "markdown",
   "metadata": {},
   "source": [
    "# Hadoop Streaming assignment 1: Words Rating"
   ]
  },
  {
   "cell_type": "markdown",
   "metadata": {},
   "source": [
    "The purpose of this task is to create your own WordCount program for Wikipedia dump processing and learn basic concepts of the MapReduce.\n",
    "\n",
    "In this task you have to find the 7th word by popularity and its quantity in the reverse order (most popular first) in Wikipedia data (`/data/wiki/en_articles_part`).\n",
    "\n",
    "There are several points for this task:\n",
    "\n",
    "1) As an output, you have to get the 7th word and its quantity separated by a tab character.\n",
    "\n",
    "2) You must use the second job to obtain a totally ordered result.\n",
    "\n",
    "3) Do not forget to redirect all trash and output to /dev/null.\n",
    "\n",
    "Here you can find the draft of the task main steps. You can use other methods for solution obtaining."
   ]
  },
  {
   "cell_type": "markdown",
   "metadata": {},
   "source": [
    "## Step 1. Create mapper and reducer.\n",
    "\n",
    "<b>Hint:</b>  Demo task contains almost all the necessary pieces to complete this assignment. You may use the demo to implement the first MapReduce Job."
   ]
  },
  {
   "cell_type": "code",
   "execution_count": 1,
   "metadata": {},
   "outputs": [
    {
     "name": "stdout",
     "output_type": "stream",
     "text": [
      "Overwriting mapper_wiki_parser.py\n"
     ]
    }
   ],
   "source": [
    "%%writefile mapper_wiki_parser.py\n",
    "\n",
    "import sys\n",
    "import re\n",
    "\n",
    "\n",
    "for line in sys.stdin:\n",
    "    try:\n",
    "        article_id, text = line.strip().split('\\t', 1)\n",
    "    except ValueError as e:\n",
    "        continue\n",
    "    words = re.split(\"\\W*\\s+\\W*\", text, flags=re.UNICODE)\n",
    "    for word in words:\n",
    "        print (\"%s\\t%d\" % (word.lower(), 1))"
   ]
  },
  {
   "cell_type": "code",
   "execution_count": 2,
   "metadata": {},
   "outputs": [
    {
     "name": "stdout",
     "output_type": "stream",
     "text": [
      "Overwriting reducer_wiki_parser.py\n"
     ]
    }
   ],
   "source": [
    "%%writefile reducer_wiki_parser.py\n",
    "\n",
    "import sys\n",
    "\n",
    "current_key = None\n",
    "word_sum = 0\n",
    "\n",
    "for line in sys.stdin:\n",
    "    try:\n",
    "        key, count = line.strip().split('\\t', 1)\n",
    "        count = int(count)\n",
    "    except ValueError as e:\n",
    "        continue\n",
    "    if current_key != key:\n",
    "        if current_key:\n",
    "            print (\"%s\\t%d\" % (current_key, word_sum))\n",
    "        word_sum = 0\n",
    "        current_key = key\n",
    "    word_sum += count\n",
    "\n",
    "if current_key:\n",
    "    print (\"%s\\t%d\" % (current_key, word_sum))"
   ]
  },
  {
   "cell_type": "markdown",
   "metadata": {},
   "source": [
    "## Step 2. Create sort job.\n",
    "\n",
    "<b>Hint:</b> You may use MapReduce comparator to solve this step. Make sure that the keys are sorted in ascending order."
   ]
  },
  {
   "cell_type": "code",
   "execution_count": 3,
   "metadata": {},
   "outputs": [
    {
     "name": "stdout",
     "output_type": "stream",
     "text": [
      "Overwriting mapper_rating.py\n"
     ]
    }
   ],
   "source": [
    "%%writefile mapper_rating.py\n",
    "\n",
    "import sys\n",
    "import re\n",
    "\n",
    "for line in sys.stdin:\n",
    "    try:\n",
    "        word, count = line.strip().split('\\t', 1)\n",
    "        count = int(count)\n",
    "    except ValueError as e:\n",
    "        continue\n",
    "        \n",
    "    print (\"%d\\t%s\" % (count, word))"
   ]
  },
  {
   "cell_type": "code",
   "execution_count": 4,
   "metadata": {},
   "outputs": [
    {
     "name": "stdout",
     "output_type": "stream",
     "text": [
      "Overwriting reducer_rating.py\n"
     ]
    }
   ],
   "source": [
    "%%writefile reducer_rating.py\n",
    "\n",
    "import sys\n",
    "\n",
    "for line in sys.stdin:\n",
    "    try:\n",
    "        count, word = line.strip().split('\\t', 1)\n",
    "        count = int(count)\n",
    "    except ValueError as e:\n",
    "        continue\n",
    "        \n",
    "    print (\"%s\\t%d\" % (word, count))\n"
   ]
  },
  {
   "cell_type": "markdown",
   "metadata": {},
   "source": [
    "## Step 3. Bash commands\n",
    "\n",
    "<b> Hint: </b> For printing the exact row you may use basic UNIX commands. For instance, sed/head/tail/... (if you know other commands, you can use them).\n",
    "\n",
    "To run both jobs, you must use two consecutive yarn-commands. Remember that the input for the second job is the ouput for the first job.\n",
    "\n",
    "__NB__: Please, use a defined python major version (e.g. `python3 mappper.py` instead of `python mapper.py`)!"
   ]
  },
  {
   "cell_type": "markdown",
   "metadata": {},
   "source": [
    "Only the answer to your task should be printed in the output stream (__stdout__) in the last cell. There should be no more output in this stream. In order to get rid of garbage [junk lines] (e.g. created by `hdfs dfs -rm` or `yarn` commands) redirect the output to /dev/null.\n",
    "\n",
    "#### Final notice:\n",
    "\n",
    "1. Please take into account that you must __not__ redirect __stderr__ to anywhere. Hadoop, Hive, and Spark print their logs to stderr and the Grading system also reads and analyses it.\n",
    "\n",
    "1. During checking the code from the notebook, the system runs all notebook's cells and reads the output of only the last filled cell. It is clear that any exception should not be thrown in the running cells. If you decide to write some text in a cell, you should change the style of the cell to Markdown (Cell -> Cell type -> Markdown).\n",
    "\n",
    "1. The Grader takes into account the output from the sample dataset you have in the notebook. Therefore, you have to \"Run All\" cells in the notebook before you send the ipynb solution.\n",
    "\n",
    "1. The name of the notebook must contain only Roman letters, numbers and characters “-” or “_”. For example, Windows adds something like \" (2)\" (with the leading space) at the end of a filename if you try to download a file with the same name. This is a problem, because you will have a space character and curly braces \"(\" and \")\". "
   ]
  },
  {
   "cell_type": "code",
   "execution_count": 5,
   "metadata": {},
   "outputs": [
    {
     "name": "stdout",
     "output_type": "stream",
     "text": [
      "is\t126420\n"
     ]
    },
    {
     "name": "stderr",
     "output_type": "stream",
     "text": [
      "21/01/06 09:59:50 INFO client.RMProxy: Connecting to ResourceManager at /0.0.0.0:8032\n",
      "21/01/06 09:59:50 INFO client.RMProxy: Connecting to ResourceManager at /0.0.0.0:8032\n",
      "21/01/06 09:59:51 INFO mapred.FileInputFormat: Total input files to process : 1\n",
      "21/01/06 09:59:51 INFO mapreduce.JobSubmitter: number of splits:2\n",
      "21/01/06 09:59:51 INFO Configuration.deprecation: yarn.resourcemanager.system-metrics-publisher.enabled is deprecated. Instead, use yarn.system-metrics-publisher.enabled\n",
      "21/01/06 09:59:51 INFO mapreduce.JobSubmitter: Submitting tokens for job: job_1609923625248_0007\n",
      "21/01/06 09:59:52 INFO conf.Configuration: resource-types.xml not found\n",
      "21/01/06 09:59:52 INFO resource.ResourceUtils: Unable to find 'resource-types.xml'.\n",
      "21/01/06 09:59:52 INFO resource.ResourceUtils: Adding resource type - name = memory-mb, units = Mi, type = COUNTABLE\n",
      "21/01/06 09:59:52 INFO resource.ResourceUtils: Adding resource type - name = vcores, units = , type = COUNTABLE\n",
      "21/01/06 09:59:52 INFO impl.YarnClientImpl: Submitted application application_1609923625248_0007\n",
      "21/01/06 09:59:52 INFO mapreduce.Job: The url to track the job: http://172.17.0.65:8088/proxy/application_1609923625248_0007/\n",
      "21/01/06 09:59:52 INFO mapreduce.Job: Running job: job_1609923625248_0007\n",
      "21/01/06 09:59:57 INFO mapreduce.Job: Job job_1609923625248_0007 running in uber mode : false\n",
      "21/01/06 09:59:57 INFO mapreduce.Job:  map 0% reduce 0%\n",
      "21/01/06 10:00:14 INFO mapreduce.Job:  map 46% reduce 0%\n",
      "21/01/06 10:00:20 INFO mapreduce.Job:  map 67% reduce 0%\n",
      "21/01/06 10:00:24 INFO mapreduce.Job:  map 100% reduce 0%\n",
      "21/01/06 10:00:30 INFO mapreduce.Job:  map 100% reduce 25%\n",
      "21/01/06 10:00:33 INFO mapreduce.Job:  map 100% reduce 50%\n",
      "21/01/06 10:00:35 INFO mapreduce.Job:  map 100% reduce 100%\n",
      "21/01/06 10:00:37 INFO mapreduce.Job: Job job_1609923625248_0007 completed successfully\n",
      "21/01/06 10:00:37 INFO mapreduce.Job: Counters: 50\n",
      "\tFile System Counters\n",
      "\t\tFILE: Number of bytes read=17931079\n",
      "\t\tFILE: Number of bytes written=28115078\n",
      "\t\tFILE: Number of read operations=0\n",
      "\t\tFILE: Number of large read operations=0\n",
      "\t\tFILE: Number of write operations=0\n",
      "\t\tHDFS: Number of bytes read=76874501\n",
      "\t\tHDFS: Number of bytes written=5370711\n",
      "\t\tHDFS: Number of read operations=18\n",
      "\t\tHDFS: Number of large read operations=0\n",
      "\t\tHDFS: Number of write operations=8\n",
      "\tJob Counters \n",
      "\t\tKilled reduce tasks=1\n",
      "\t\tLaunched map tasks=2\n",
      "\t\tLaunched reduce tasks=4\n",
      "\t\tData-local map tasks=2\n",
      "\t\tTotal time spent by all maps in occupied slots (ms)=50206\n",
      "\t\tTotal time spent by all reduces in occupied slots (ms)=23582\n",
      "\t\tTotal time spent by all map tasks (ms)=50206\n",
      "\t\tTotal time spent by all reduce tasks (ms)=23582\n",
      "\t\tTotal vcore-milliseconds taken by all map tasks=50206\n",
      "\t\tTotal vcore-milliseconds taken by all reduce tasks=23582\n",
      "\t\tTotal megabyte-milliseconds taken by all map tasks=51410944\n",
      "\t\tTotal megabyte-milliseconds taken by all reduce tasks=24147968\n",
      "\tMap-Reduce Framework\n",
      "\t\tMap input records=4100\n",
      "\t\tMap output records=11937375\n",
      "\t\tMap output bytes=97842608\n",
      "\t\tMap output materialized bytes=8953044\n",
      "\t\tInput split bytes=228\n",
      "\t\tCombine input records=11937375\n",
      "\t\tCombine output records=640030\n",
      "\t\tReduce input groups=427188\n",
      "\t\tReduce shuffle bytes=8953044\n",
      "\t\tReduce input records=640030\n",
      "\t\tReduce output records=427188\n",
      "\t\tSpilled Records=1920090\n",
      "\t\tShuffled Maps =8\n",
      "\t\tFailed Shuffles=0\n",
      "\t\tMerged Map outputs=8\n",
      "\t\tGC time elapsed (ms)=899\n",
      "\t\tCPU time spent (ms)=37490\n",
      "\t\tPhysical memory (bytes) snapshot=1309282304\n",
      "\t\tVirtual memory (bytes) snapshot=11547602944\n",
      "\t\tTotal committed heap usage (bytes)=778043392\n",
      "\tShuffle Errors\n",
      "\t\tBAD_ID=0\n",
      "\t\tCONNECTION=0\n",
      "\t\tIO_ERROR=0\n",
      "\t\tWRONG_LENGTH=0\n",
      "\t\tWRONG_MAP=0\n",
      "\t\tWRONG_REDUCE=0\n",
      "\tFile Input Format Counters \n",
      "\t\tBytes Read=76874273\n",
      "\tFile Output Format Counters \n",
      "\t\tBytes Written=5370711\n",
      "21/01/06 10:00:37 INFO streaming.StreamJob: Output directory: wordcount_result_for_rating\n",
      "21/01/06 10:00:40 INFO client.RMProxy: Connecting to ResourceManager at /0.0.0.0:8032\n",
      "21/01/06 10:00:40 INFO client.RMProxy: Connecting to ResourceManager at /0.0.0.0:8032\n",
      "21/01/06 10:00:40 INFO mapred.FileInputFormat: Total input files to process : 4\n",
      "21/01/06 10:00:40 INFO mapreduce.JobSubmitter: number of splits:4\n",
      "21/01/06 10:00:40 INFO Configuration.deprecation: map.output.key.field.separator is deprecated. Instead, use mapreduce.map.output.key.field.separator\n",
      "21/01/06 10:00:40 INFO Configuration.deprecation: yarn.resourcemanager.system-metrics-publisher.enabled is deprecated. Instead, use yarn.system-metrics-publisher.enabled\n",
      "21/01/06 10:00:41 INFO mapreduce.JobSubmitter: Submitting tokens for job: job_1609923625248_0008\n",
      "21/01/06 10:00:41 INFO conf.Configuration: resource-types.xml not found\n",
      "21/01/06 10:00:41 INFO resource.ResourceUtils: Unable to find 'resource-types.xml'.\n",
      "21/01/06 10:00:41 INFO resource.ResourceUtils: Adding resource type - name = memory-mb, units = Mi, type = COUNTABLE\n",
      "21/01/06 10:00:41 INFO resource.ResourceUtils: Adding resource type - name = vcores, units = , type = COUNTABLE\n",
      "21/01/06 10:00:41 INFO impl.YarnClientImpl: Submitted application application_1609923625248_0008\n",
      "21/01/06 10:00:41 INFO mapreduce.Job: The url to track the job: http://172.17.0.65:8088/proxy/application_1609923625248_0008/\n",
      "21/01/06 10:00:41 INFO mapreduce.Job: Running job: job_1609923625248_0008\n",
      "21/01/06 10:00:47 INFO mapreduce.Job: Job job_1609923625248_0008 running in uber mode : false\n",
      "21/01/06 10:00:47 INFO mapreduce.Job:  map 0% reduce 0%\n",
      "21/01/06 10:00:58 INFO mapreduce.Job:  map 100% reduce 0%\n",
      "21/01/06 10:01:03 INFO mapreduce.Job:  map 100% reduce 100%\n",
      "21/01/06 10:01:04 INFO mapreduce.Job: Job job_1609923625248_0008 completed successfully\n",
      "21/01/06 10:01:04 INFO mapreduce.Job: Counters: 49\n",
      "\tFile System Counters\n",
      "\t\tFILE: Number of bytes read=6225112\n",
      "\t\tFILE: Number of bytes written=13497622\n",
      "\t\tFILE: Number of read operations=0\n",
      "\t\tFILE: Number of large read operations=0\n",
      "\t\tFILE: Number of write operations=0\n",
      "\t\tHDFS: Number of bytes read=5371207\n",
      "\t\tHDFS: Number of bytes written=5370711\n",
      "\t\tHDFS: Number of read operations=15\n",
      "\t\tHDFS: Number of large read operations=0\n",
      "\t\tHDFS: Number of write operations=2\n",
      "\tJob Counters \n",
      "\t\tLaunched map tasks=4\n",
      "\t\tLaunched reduce tasks=1\n",
      "\t\tData-local map tasks=4\n",
      "\t\tTotal time spent by all maps in occupied slots (ms)=36348\n",
      "\t\tTotal time spent by all reduces in occupied slots (ms)=2564\n",
      "\t\tTotal time spent by all map tasks (ms)=36348\n",
      "\t\tTotal time spent by all reduce tasks (ms)=2564\n",
      "\t\tTotal vcore-milliseconds taken by all map tasks=36348\n",
      "\t\tTotal vcore-milliseconds taken by all reduce tasks=2564\n",
      "\t\tTotal megabyte-milliseconds taken by all map tasks=37220352\n",
      "\t\tTotal megabyte-milliseconds taken by all reduce tasks=2625536\n",
      "\tMap-Reduce Framework\n",
      "\t\tMap input records=427188\n",
      "\t\tMap output records=427188\n",
      "\t\tMap output bytes=5370720\n",
      "\t\tMap output materialized bytes=6225130\n",
      "\t\tInput split bytes=496\n",
      "\t\tCombine input records=0\n",
      "\t\tCombine output records=0\n",
      "\t\tReduce input groups=2075\n",
      "\t\tReduce shuffle bytes=6225130\n",
      "\t\tReduce input records=427188\n",
      "\t\tReduce output records=427188\n",
      "\t\tSpilled Records=854376\n",
      "\t\tShuffled Maps =4\n",
      "\t\tFailed Shuffles=0\n",
      "\t\tMerged Map outputs=4\n",
      "\t\tGC time elapsed (ms)=1193\n",
      "\t\tCPU time spent (ms)=6280\n",
      "\t\tPhysical memory (bytes) snapshot=1350578176\n",
      "\t\tVirtual memory (bytes) snapshot=9619791872\n",
      "\t\tTotal committed heap usage (bytes)=899153920\n",
      "\tShuffle Errors\n",
      "\t\tBAD_ID=0\n",
      "\t\tCONNECTION=0\n",
      "\t\tIO_ERROR=0\n",
      "\t\tWRONG_LENGTH=0\n",
      "\t\tWRONG_MAP=0\n",
      "\t\tWRONG_REDUCE=0\n",
      "\tFile Input Format Counters \n",
      "\t\tBytes Read=5370711\n",
      "\tFile Output Format Counters \n",
      "\t\tBytes Written=5370711\n",
      "21/01/06 10:01:04 INFO streaming.StreamJob: Output directory: wordcount_result_for_rating_2\n",
      "cat: Unable to write to output stream.\n"
     ]
    }
   ],
   "source": [
    "%%bash\n",
    "\n",
    "OUT_DIR=\"wordcount_result_for_rating\"\n",
    "NUM_REDUCERS=4\n",
    "\n",
    "hdfs dfs -rm -r -skipTrash ${OUT_DIR} > /dev/null\n",
    "\n",
    "yarn jar /opt/cloudera/parcels/CDH/lib/hadoop-mapreduce/hadoop-streaming.jar \\\n",
    "    -D mapreduce.job.name=\"Streaming wordCount\" \\\n",
    "    -D mapreduce.job.reduces=${NUM_REDUCERS} \\\n",
    "    -files mapper_wiki_parser.py,reducer_wiki_parser.py \\\n",
    "    -mapper \"python3 mapper_wiki_parser.py\" \\\n",
    "    -combiner \"python3 reducer_wiki_parser.py\" \\\n",
    "    -reducer \"python3 reducer_wiki_parser.py\" \\\n",
    "    -input /data/wiki/en_articles_part \\\n",
    "    -output ${OUT_DIR} > /dev/null\n",
    "\n",
    "\n",
    "OUT_DIR_2=\"wordcount_result_for_rating_2\"\n",
    "NUM_REDUCERS=1\n",
    "\n",
    "hdfs dfs -rm -r -skipTrash ${OUT_DIR_2} > /dev/null\n",
    "\n",
    "yarn jar /opt/cloudera/parcels/CDH/lib/hadoop-mapreduce/hadoop-streaming.jar \\\n",
    "    -D mapreduce.job.name=\"Streaming wordCount Rating\" \\\n",
    "    -D mapreduce.job.output.key.comparator.class=org.apache.hadoop.mapreduce.lib.partition.KeyFieldBasedComparator \\\n",
    "    -D map.output.key.field.separator=\\t \\\n",
    "    -D mapreduce.partition.keycomparator.options=-k1,1nr \\\n",
    "    -D mapreduce.job.reduces=${NUM_REDUCERS} \\\n",
    "    -files mapper_rating.py,reducer_rating.py \\\n",
    "    -mapper \"python3 mapper_rating.py\" \\\n",
    "    -reducer \"python3 reducer_rating.py\" \\\n",
    "    -input ${OUT_DIR} \\\n",
    "    -output ${OUT_DIR_2} > /dev/null\n",
    "\n",
    "hdfs dfs -cat ${OUT_DIR_2}/part-00000 | sed -n '7p;8q'"
   ]
  }
 ],
 "metadata": {
  "kernelspec": {
   "display_name": "Python 3",
   "language": "python",
   "name": "python3"
  },
  "language_info": {
   "codemirror_mode": {
    "name": "ipython",
    "version": 3
   },
   "file_extension": ".py",
   "mimetype": "text/x-python",
   "name": "python",
   "nbconvert_exporter": "python",
   "pygments_lexer": "ipython3",
   "version": "3.7.4"
  }
 },
 "nbformat": 4,
 "nbformat_minor": 2
}
